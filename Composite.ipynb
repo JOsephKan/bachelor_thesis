{
 "cells": [
  {
   "cell_type": "markdown",
   "id": "4d35e662-4c88-40eb-b591-91e9ba4ba4b8",
   "metadata": {},
   "source": [
    "# Composite Figure"
   ]
  },
  {
   "cell_type": "markdown",
   "id": "76ceb71f-210a-426d-9a57-4356c74f301f",
   "metadata": {},
   "source": [
    "## Import package"
   ]
  },
  {
   "cell_type": "code",
   "execution_count": 2,
   "id": "604eda54-fbfb-4d6b-b7ea-8106dcc99e8c",
   "metadata": {},
   "outputs": [],
   "source": [
    "import numpy as np\n",
    "import netCDF4 as nc"
   ]
  },
  {
   "cell_type": "markdown",
   "id": "d2644ccf",
   "metadata": {},
   "source": [
    "## Figure 01: Raw Composite for the CCKWs in CNTL"
   ]
  },
  {
   "cell_type": "markdown",
   "id": "533ea4c0",
   "metadata": {},
   "source": [
    "### Load data"
   ]
  },
  {
   "cell_type": "code",
   "execution_count": null,
   "id": "4ebf1a9e",
   "metadata": {},
   "outputs": [],
   "source": [
    "# file path\n",
    "path: str = \"/work/b11209013/2024_Research/MPAS/merged_data/CNTL/\"\n",
    "\n",
    "# load data\n"
   ]
  }
 ],
 "metadata": {
  "kernelspec": {
   "display_name": "atmo",
   "language": "python",
   "name": "python3"
  },
  "language_info": {
   "codemirror_mode": {
    "name": "ipython",
    "version": 3
   },
   "file_extension": ".py",
   "mimetype": "text/x-python",
   "name": "python",
   "nbconvert_exporter": "python",
   "pygments_lexer": "ipython3",
   "version": "3.11.11"
  }
 },
 "nbformat": 4,
 "nbformat_minor": 5
}
