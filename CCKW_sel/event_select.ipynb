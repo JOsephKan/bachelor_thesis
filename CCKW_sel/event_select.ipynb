{
 "cells": [
  {
   "cell_type": "markdown",
   "metadata": {},
   "source": [
    "# CCKWs event selection"
   ]
  },
  {
   "cell_type": "markdown",
   "metadata": {},
   "source": [
    "## Import package"
   ]
  },
  {
   "cell_type": "code",
   "execution_count": 18,
   "metadata": {},
   "outputs": [],
   "source": [
    "import glob\n",
    "import numpy as np\n",
    "import pandas as pd\n",
    "import netCDF4 as nc\n",
    "import matplotlib.pyplot as plt"
   ]
  },
  {
   "cell_type": "markdown",
   "metadata": {},
   "source": [
    "## Load data"
   ]
  },
  {
   "cell_type": "code",
   "execution_count": 19,
   "metadata": {},
   "outputs": [
    {
     "name": "stdout",
     "output_type": "stream",
     "text": [
      "Shape of CNTL data (360, 38, 20, 720)\n",
      "Shape of NCRF data (360, 38, 20, 720)\n",
      "Shape of NSC data (360, 38, 20, 720)\n"
     ]
    }
   ],
   "source": [
    "# experiment names\n",
    "exp_name: list[str] = [\"CNTL\", \"NCRF\", \"NSC\"]\n",
    "\n",
    "# file name\n",
    "fname: list[str] = [\n",
    "    f\"/work/b11209013/2024_Research/MPAS/merged_data/{exp}/q1.nc\"\n",
    "    for exp in exp_name\n",
    "    ]\n",
    "\n",
    "# load dimension\n",
    "dims: dict[str, np.ndarray] = dict()\n",
    "\n",
    "with nc.Dataset(fname[0]) as f:\n",
    "    for dim in f.dimensions.items():\n",
    "        dims[dim[0]] = np.array(f.variables[dim[0]][:])\n",
    "\n",
    "lat_lim: tuple[int, int] = np.where((dims[\"lat\"] >= -5) & (dims[\"lat\"] <= 5))[0]\n",
    "\n",
    "dims[\"lat\"] = dims[\"lat\"][lat_lim]\n",
    "dims[\"time\"] = dims[\"time\"][:360]\n",
    "\n",
    "# load data\n",
    "data: dict[str, np.ndarray] = dict()\n",
    "\n",
    "for exp, f in zip(exp_name, fname):\n",
    "    with nc.Dataset(f) as f:\n",
    "        data[exp]  = np.array(f.variables[\"q1\"][:360, :, lat_lim, :])\n",
    "        data[exp] -= np.nanmean(data[exp], axis=(0, 3), keepdims=True)\n",
    "\n",
    "ltime, llev, llat, llon = data[\"CNTL\"].shape\n",
    "\n",
    "print(\"Shape of CNTL data\", data[\"CNTL\"].shape)\n",
    "print(\"Shape of NCRF data\", data[\"NCRF\"].shape)\n",
    "print(\"Shape of NSC data\", data[\"NSC\"].shape)"
   ]
  },
  {
   "cell_type": "markdown",
   "metadata": {},
   "source": [
    "## Vertical Integrate Q1"
   ]
  },
  {
   "cell_type": "code",
   "execution_count": 20,
   "metadata": {},
   "outputs": [
    {
     "name": "stdout",
     "output_type": "stream",
     "text": [
      "Shape of CNTL data after vertical integration (360, 20, 720)\n"
     ]
    }
   ],
   "source": [
    "def vert_int(\n",
    "        data: np.ndarray,\n",
    "        levs: np.ndarray,\n",
    ") -> np.ndarray:\n",
    "        data_ave : np.ndarray = (data[:, 1:] + data[:, :-1])/2\n",
    "        data_vint: np.ndarray = data_ave * np.diff(levs*100)[None, :, None, None]\n",
    "\n",
    "        return -data_vint.sum(axis=1)*86400/9.81/2.5e6\n",
    "\n",
    "# vertical integration of Q1\n",
    "q1_vint: dict[str, np.ndarray] = dict(\n",
    "        (exp, vert_int(data[exp], dims[\"lev\"]))\n",
    "        for exp in exp_name\n",
    "        )\n",
    "\n",
    "print(\"Shape of CNTL data after vertical integration\", q1_vint[\"CNTL\"].shape)\n",
    "\n"
   ]
  },
  {
   "cell_type": "markdown",
   "metadata": {},
   "source": [
    "## Symmetrize Q1 data"
   ]
  },
  {
   "cell_type": "code",
   "execution_count": 21,
   "metadata": {},
   "outputs": [
    {
     "name": "stdout",
     "output_type": "stream",
     "text": [
      "Shape of CNTL data after symmetrization (360, 720)\n"
     ]
    }
   ],
   "source": [
    "def symm(\n",
    "        data: np.ndarray,\n",
    "        lats: np.ndarray,\n",
    ") -> np.ndarray:\n",
    "        lat_cos: np.ndarray = np.cos(np.deg2rad(lats))\n",
    "\n",
    "        data_symm: np.ndarray = np.sum((lat_cos[None, :, None] * data) / np.sum(lat_cos), axis=1)\n",
    "\n",
    "        return data_symm\n",
    "\n",
    "# symmetrize the data\n",
    "q1_vint_symm: dict[str, np.ndarray] = dict(\n",
    "        (exp, symm(q1_vint[exp], dims[\"lat\"]))\n",
    "        for exp in exp_name\n",
    "        )\n",
    "\n",
    "print(\"Shape of CNTL data after symmetrization\", q1_vint_symm[\"CNTL\"].shape)"
   ]
  },
  {
   "cell_type": "markdown",
   "metadata": {},
   "source": [
    "## Bandpass filter on vertical integrate Q1"
   ]
  },
  {
   "cell_type": "markdown",
   "metadata": {},
   "source": [
    "### 2D FFT on the symmetric Q1"
   ]
  },
  {
   "cell_type": "code",
   "execution_count": 22,
   "metadata": {},
   "outputs": [],
   "source": [
    "def fft2d(\n",
    "        data: np.ndarray,\n",
    ") -> np.ndarray:\n",
    "        data_fft: np.ndarray = np.fft.fft(data, axis=1)\n",
    "        data_fft: np.ndarray = np.fft.ifft(data_fft, axis=0)\n",
    "\n",
    "        return data_fft\n",
    "\n",
    "# 2D FFT\n",
    "q1_vint_symm_fft: dict[str, np.ndarray] = dict(\n",
    "        (exp, fft2d(q1_vint_symm[exp]))\n",
    "        for exp in exp_name\n",
    "        )"
   ]
  },
  {
   "cell_type": "markdown",
   "metadata": {},
   "source": [
    "### Bandpass filter"
   ]
  },
  {
   "cell_type": "code",
   "execution_count": 23,
   "metadata": {},
   "outputs": [],
   "source": [
    "# setup the wavenumber and frequency\n",
    "wn: np.ndarray = np.fft.fftfreq(llon, d=1/llon).astype(int)\n",
    "fr: np.ndarray = np.fft.fftfreq(ltime, d=1/4)\n",
    "\n",
    "wnm, frm = np.meshgrid(wn, fr)\n",
    "\n",
    "kel_fr = lambda wn, ed: wn * (86400 / (2*np.pi*6.371e6))*np.sqrt(9.81*ed)\n",
    "\n",
    "# setting up condition of the bandpass filter\n",
    "kel_lim = np.where(\n",
    "    ((wnm >= 1) & (wnm <= 14) &\n",
    "    (frm >= 1/20) & (frm <= 1/2.5) &\n",
    "    (frm >= kel_fr(wnm, 8)) & (frm <= kel_fr(wnm, 90))) | \n",
    "    ((wnm <= -1) & (wnm >= -14) &\n",
    "    (frm <= -1/20) & (frm >= -1/2.5) &\n",
    "    (frm <= kel_fr(wnm, 8)) & (frm >= kel_fr(wnm, 90))),\n",
    "    1, 0)\n",
    "\n",
    "# bandpass filter\n",
    "q1_vint_symm_fft_bp: dict[str, np.ndarray] = dict(\n",
    "        (exp, q1_vint_symm_fft[exp]*kel_lim)\n",
    "        for exp in exp_name\n",
    "        )"
   ]
  },
  {
   "cell_type": "markdown",
   "metadata": {},
   "source": [
    "### Inverse FFT"
   ]
  },
  {
   "cell_type": "code",
   "execution_count": 24,
   "metadata": {},
   "outputs": [
    {
     "name": "stdout",
     "output_type": "stream",
     "text": [
      "Shape of CNTL data after inverse FFT (360, 720)\n"
     ]
    }
   ],
   "source": [
    "def ifft2d(\n",
    "        data: np.ndarray,\n",
    ") -> np.ndarray:\n",
    "        data_ifft: np.ndarray = np.fft.ifft(data, axis=1)\n",
    "        data_ifft: np.ndarray = np.fft.fft(data_ifft, axis=0)\n",
    "\n",
    "        return data_ifft\n",
    "\n",
    "# inverse 2D FFT\n",
    "q1_vint_symm_bp: dict[str, np.ndarray] = dict(\n",
    "        (exp, ifft2d(q1_vint_symm_fft_bp[exp]).real)\n",
    "        for exp in exp_name\n",
    "        )\n",
    "print(\"Shape of CNTL data after inverse FFT\", q1_vint_symm_bp[\"CNTL\"].shape)"
   ]
  },
  {
   "cell_type": "code",
   "execution_count": 27,
   "metadata": {},
   "outputs": [],
   "source": [
    "sel_event: list[tuple[int, int]] = []\n",
    "\n",
    "\n",
    "for key in exp_name:\n",
    "    sel_event = []\n",
    "\n",
    "    for i in np.linspace(12, 348, 13, dtype=int):\n",
    "        if q1_vint_symm_bp[key][i, q1_vint_symm_bp[key][i].argmax()] >= np.percentile(q1_vint_symm_bp[key], 97):\n",
    "            \n",
    "            sel_event.append((i, q1_vint_symm_bp[key][i].argmax()))\n",
    "\n",
    "    np.save(f\"Selected_Events/q1_sel_{key}.npy\", sel_event)\n"
   ]
  }
 ],
 "metadata": {
  "kernelspec": {
   "display_name": "atmo",
   "language": "python",
   "name": "python3"
  },
  "language_info": {
   "codemirror_mode": {
    "name": "ipython",
    "version": 3
   },
   "file_extension": ".py",
   "mimetype": "text/x-python",
   "name": "python",
   "nbconvert_exporter": "python",
   "pygments_lexer": "ipython3",
   "version": "3.11.11"
  }
 },
 "nbformat": 4,
 "nbformat_minor": 2
}
